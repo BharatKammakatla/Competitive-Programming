{
 "cells": [
  {
   "cell_type": "code",
   "execution_count": 2,
   "metadata": {},
   "outputs": [
    {
     "name": "stdout",
     "output_type": "stream",
     "text": [
      "BANANAS\n",
      "Stuart 16\n"
     ]
    }
   ],
   "source": [
    "\n",
    "def minion_game(string):\n",
    "    # your code goes here\n",
    "    vowels = 'AEIOU'\n",
    "    kevin_count = 0\n",
    "    stuart_count = 0\n",
    "    str_len = len(string)\n",
    "    \n",
    "    # loop through the string\n",
    "    for i in range(str_len):\n",
    "        if string[i] in vowels:\n",
    "            kevin_count += str_len - i\n",
    "        else:\n",
    "            stuart_count += str_len - i\n",
    "    \n",
    "    \n",
    "    # print the result based on the count\n",
    "    if kevin_count > stuart_count:\n",
    "        print('Kevin {}'.format(kevin_count))\n",
    "    elif kevin_count < stuart_count:\n",
    "        print('Stuart {}'.format(stuart_count))\n",
    "    else:\n",
    "        print(\"Draw\")\n",
    "\n",
    "\n",
    "\n",
    "if __name__ == '__main__':\n",
    "    s = input()\n",
    "    minion_game(s)"
   ]
  },
  {
   "cell_type": "code",
   "execution_count": null,
   "metadata": {},
   "outputs": [],
   "source": []
  }
 ],
 "metadata": {
  "kernelspec": {
   "display_name": "Python 3",
   "language": "python",
   "name": "python3"
  },
  "language_info": {
   "codemirror_mode": {
    "name": "ipython",
    "version": 3
   },
   "file_extension": ".py",
   "mimetype": "text/x-python",
   "name": "python",
   "nbconvert_exporter": "python",
   "pygments_lexer": "ipython3",
   "version": "3.7.4"
  }
 },
 "nbformat": 4,
 "nbformat_minor": 2
}
